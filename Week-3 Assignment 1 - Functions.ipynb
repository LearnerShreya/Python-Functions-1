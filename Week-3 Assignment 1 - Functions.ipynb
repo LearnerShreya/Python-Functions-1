{
 "cells": [
  {
   "cell_type": "markdown",
   "id": "04cfdae4",
   "metadata": {},
   "source": [
    "## Q1. Which keyword is used to create a function? Create a function to return a list of odd numbers in the range of 1 to 25.\n",
    "### Ans:"
   ]
  },
  {
   "cell_type": "markdown",
   "id": "e46a228b",
   "metadata": {},
   "source": [
    "**def** keyword is used to create a function"
   ]
  },
  {
   "cell_type": "code",
   "execution_count": 17,
   "id": "ded13488",
   "metadata": {},
   "outputs": [
    {
     "name": "stdout",
     "output_type": "stream",
     "text": [
      "[1, 3, 5, 7, 9, 11, 13, 15, 17, 19, 21, 23, 25]\n"
     ]
    }
   ],
   "source": [
    "def odd():\n",
    "    odd1 = []\n",
    "    for i in range(1, 26):\n",
    "        if i % 2 != 0:\n",
    "            odd1.append(i)\n",
    "    return odd1\n",
    "\n",
    "result = odd()\n",
    "print(result)"
   ]
  },
  {
   "cell_type": "markdown",
   "id": "14767186",
   "metadata": {},
   "source": [
    "## Q2. Why *args and **kwargs is used in some functions? Create a function each for *args and **kwargs to demonstrate their use.\n",
    "### Ans:"
   ]
  },
  {
   "cell_type": "markdown",
   "id": "27fa20ba",
   "metadata": {},
   "source": [
    "***args** and ****kwargs** are used in Python functions to allow them to accept a variable number of arguments and keyword arguments, respectively. This makes functions more flexible and reusable.\n",
    "\n",
    "***args**\n",
    "\n",
    "The `*args` parameter in a function definition can be used to accept a variable number of arguments. When a function is called with more arguments than are defined in the function definition, all of the extra arguments are passed to the `*args` parameter as a tuple.\n",
    "\n",
    "Here is an example of a function that uses the `*args` parameter:\n",
    "\n",
    "```python\n",
    "def add(*numbers):\n",
    "  \"\"\"Returns the sum of all the arguments passed to the function.\"\"\"\n",
    "  sum = 0\n",
    "  for number in numbers:\n",
    "    sum += number\n",
    "  return sum\n",
    "\n",
    "# Call the function with a variable number of arguments\n",
    "print(add(1, 2, 3, 4, 5))\n",
    "```\n",
    "\n",
    "Output:\n",
    "\n",
    "```\n",
    "15\n",
    "```\n",
    "\n",
    "****kwargs**\n",
    "\n",
    "The `**kwargs` parameter in a function definition can be used to accept a variable number of keyword arguments. When a function is called with keyword arguments that are not defined in the function definition, all of the extra keyword arguments are passed to the `**kwargs` parameter as a dictionary.\n",
    "\n",
    "Here is an example of a function that uses the `**kwargs` parameter:\n",
    "\n",
    "```python\n",
    "def print_user_info(**kwargs):\n",
    "  \"\"\"Prints the information of the user.\"\"\"\n",
    "  for key, value in kwargs.items():\n",
    "    print(f\"{key}: {value}\")\n",
    "\n",
    "# Call the function with keyword arguments\n",
    "print_user_info(name=\"Alice\", age=25, city=\"London\")\n",
    "```\n",
    "\n",
    "Output:\n",
    "\n",
    "```\n",
    "name: Alice\n",
    "age: 25\n",
    "city: London\n",
    "```\n",
    "\n",
    "Why use ***args** and ****kwargs**?\n",
    "\n",
    "There are several reasons why you might want to use `*args` and `**kwargs` in your functions:\n",
    "\n",
    "* **Flexibility:** `*args` and `**kwargs` allow you to write functions that can be used in a variety of situations. For example, the `add()` function above can be used to add any number of numbers, regardless of how many numbers are passed to it.\n",
    "* **Reusability:** Functions that use `*args` and `**kwargs` are more reusable than functions that use a fixed number of arguments and keyword arguments. For example, the `print_user_info()` function above can be used to print the information of any user, regardless of the number of fields that the user has.\n",
    "* **Readability:** Functions that use `*args` and `**kwargs` can be more readable than functions that use a large number of arguments and keyword arguments. For example, the `add()` function above is more readable than a function that would require a separate parameter for each number that can be added.\n",
    "\n",
    "Overall, `*args` and `**kwargs` are powerful tools that can make your Python code more flexible, reusable, and readable."
   ]
  },
  {
   "cell_type": "markdown",
   "id": "6eb3f116",
   "metadata": {},
   "source": [
    "## Q3. What is an iterator in python? Name the method used to initialise the iterator object and the method used for iteration. Use these methods to print the first five elements of the given list [2, 4, 6, 8, 10, 12, 14, 16, 18, 20].\n",
    "### Ans:"
   ]
  },
  {
   "cell_type": "markdown",
   "id": "361e14fd",
   "metadata": {},
   "source": [
    "An iterator in Python is an object that can be iterated over, meaning that it can be used in a for loop. Iterators are implemented using the iterator protocol, which consists of two methods: `__iter__()` and `__next__()`.\n",
    "\n",
    "To initialise an iterator object, we call the `__iter__()` method. This method returns an iterator object that represents the start of the iterable object.\n",
    "\n",
    "To iterate over an iterator object, we call the `__next__()` method. This method returns the next element in the iterable object. If there are no more elements, the `__next__()` method raises a `StopIteration` exception.\n",
    "\n",
    "Here is an example of how to use the `__iter__()` and `__next__()` methods to print the first five elements of the given list:\n",
    "\n",
    "We can also use the `__iter__()` and `__next__()` methods to implement our own custom iterators. This can be useful for writing code that is more reusable and extensible."
   ]
  },
  {
   "cell_type": "code",
   "execution_count": 18,
   "id": "eb26c5f5",
   "metadata": {},
   "outputs": [
    {
     "name": "stdout",
     "output_type": "stream",
     "text": [
      "2\n",
      "4\n",
      "6\n",
      "8\n",
      "10\n"
     ]
    }
   ],
   "source": [
    "list1 = [2, 4, 6, 8, 10, 12, 14, 16, 18, 20]\n",
    "\n",
    "# Initialise the iterator object\n",
    "iterator = iter(list1)\n",
    "\n",
    "# Iterate over the first five elements of the list\n",
    "for i in range(5):\n",
    "  print(next(iterator))"
   ]
  },
  {
   "cell_type": "markdown",
   "id": "cc60bd63",
   "metadata": {},
   "source": [
    "## Q4. What is a generator function in python? Why yield keyword is used? Give an example of a generator function.\n",
    "### Ans:"
   ]
  },
  {
   "cell_type": "markdown",
   "id": "d3ccd5be",
   "metadata": {},
   "source": [
    "A generator function in Python is a special type of function that returns an iterator. An iterator is an object that can be iterated over, meaning that it can be used in a for loop.\n",
    "\n",
    "The `yield` keyword is used in generator functions to produce a sequence of values one at a time. When the `yield` keyword is encountered, the generator function pauses and returns the yielded value. The generator function then resumes where it left off when the next value is requested.\n",
    "\n",
    "Generator functions are useful for creating iterators over large datasets or infinite sequences of values. They are also useful for implementing lazy evaluation, which is a programming technique that defers the evaluation of an expression until it is actually needed.\n",
    "\n",
    "**Here is an example of a generator function:**"
   ]
  },
  {
   "cell_type": "code",
   "execution_count": 19,
   "id": "945a887e",
   "metadata": {},
   "outputs": [
    {
     "name": "stdout",
     "output_type": "stream",
     "text": [
      "0\n",
      "1\n",
      "1\n",
      "2\n",
      "3\n",
      "5\n",
      "8\n",
      "13\n",
      "21\n",
      "34\n"
     ]
    }
   ],
   "source": [
    "def generate_fibonacci_numbers():\n",
    "  \"\"\"Generates a sequence of Fibonacci numbers.\"\"\"\n",
    "\n",
    "  a = 0\n",
    "  b = 1\n",
    "  while True:\n",
    "    yield a\n",
    "    a, b = b, a + b\n",
    "\n",
    "# Create a generator object for the Fibonacci numbers.\n",
    "fibonacci_generator = generate_fibonacci_numbers()\n",
    "\n",
    "# Iterate over the generator object and print the first 10 Fibonacci numbers.\n",
    "for i in range(10):\n",
    "  print(next(fibonacci_generator))\n"
   ]
  },
  {
   "cell_type": "markdown",
   "id": "c4a6cce3",
   "metadata": {},
   "source": [
    "Applications of generator functions:\n",
    "\n",
    "* **Iterating over large datasets:** Generator functions can be used to iterate over large datasets without having to load the entire dataset into memory. This can be useful for processing large files or database results.\n",
    "* **Implementing lazy evaluation:** Generator functions can be used to implement lazy evaluation, which is a programming technique that defers the evaluation of an expression until it is actually needed. This can be useful for improving the performance of programs that work with large datasets or infinite sequences of values.\n",
    "* **Creating custom iterators:** Generator functions can be used to create custom iterators for any type of data. This can be useful for writing code that is more reusable and extensible.\n",
    "\n",
    "Here are some other examples of generator functions:\n",
    "\n",
    "* A generator function to generate prime numbers\n",
    "* A generator function to generate random numbers\n",
    "* A generator function to generate permutations of a list\n",
    "* A generator function to generate combinations of a list\n",
    "\n",
    "Generator functions are a powerful tool that can be used to write more efficient and elegant Python code."
   ]
  },
  {
   "cell_type": "markdown",
   "id": "af97428d",
   "metadata": {},
   "source": [
    "## Q5. Create a generator function for prime numbers less than 1000. Use the next() method to print the first 20 prime numbers.\n",
    "### Ans:"
   ]
  },
  {
   "cell_type": "code",
   "execution_count": 20,
   "id": "4a5dcebe",
   "metadata": {},
   "outputs": [
    {
     "name": "stdout",
     "output_type": "stream",
     "text": [
      "2\n",
      "3\n",
      "5\n",
      "7\n",
      "11\n",
      "13\n",
      "17\n",
      "19\n",
      "23\n",
      "29\n",
      "31\n",
      "37\n",
      "41\n",
      "43\n",
      "47\n",
      "53\n",
      "59\n",
      "61\n",
      "67\n",
      "71\n"
     ]
    }
   ],
   "source": [
    "def generate_primes():\n",
    "    primes = []\n",
    "    num = 2\n",
    "    while num < 1000:\n",
    "        is_prime = all(num % i != 0 for i in primes)\n",
    "        if is_prime:\n",
    "            primes.append(num)\n",
    "            yield num\n",
    "        num += 1\n",
    "\n",
    "# Print the first 20 prime numbers\n",
    "prime_generator = generate_primes()\n",
    "for _ in range(20):\n",
    "    print(next(prime_generator))\n"
   ]
  },
  {
   "cell_type": "markdown",
   "id": "4e78a0b8",
   "metadata": {},
   "source": [
    "## Q6. Write a python program to print the first 10 Fibonacci numbers using a while loop.\n",
    "### Ans:"
   ]
  },
  {
   "cell_type": "code",
   "execution_count": 21,
   "id": "dbf9b60e",
   "metadata": {},
   "outputs": [
    {
     "name": "stdout",
     "output_type": "stream",
     "text": [
      "0\n",
      "1\n",
      "1\n",
      "2\n",
      "3\n",
      "5\n",
      "8\n",
      "13\n",
      "21\n",
      "34\n"
     ]
    }
   ],
   "source": [
    "def test_fib1():\n",
    "    a,b = 0,1\n",
    "    while True:\n",
    "        yield a\n",
    "        a,b = b, a+b\n",
    "fib = test_fib1()\n",
    "for i in range(10):\n",
    "    print(next(fib))"
   ]
  },
  {
   "cell_type": "markdown",
   "id": "ba11eecb",
   "metadata": {},
   "source": [
    "## Q7. Write a List Comprehension to iterate through the given string: ‘pwskills’. Expected output: ['p', 'w', 's', 'k', 'i', 'l', 'l', 's']\n",
    "### Ans:"
   ]
  },
  {
   "cell_type": "code",
   "execution_count": 22,
   "id": "2aad2c52",
   "metadata": {},
   "outputs": [
    {
     "data": {
      "text/plain": [
       "['P', 'W', 'S', 'K', 'I', 'L', 'L', 'S']"
      ]
     },
     "execution_count": 22,
     "metadata": {},
     "output_type": "execute_result"
    }
   ],
   "source": [
    "a = \"pwskills\"\n",
    "list(map(lambda a : a.upper(),a))"
   ]
  },
  {
   "cell_type": "markdown",
   "id": "a80985bf",
   "metadata": {},
   "source": [
    "## Q8. Write a python program to check whether a given number is Palindrome or not using a while loop.\n",
    "### Ans:"
   ]
  },
  {
   "cell_type": "markdown",
   "id": "03841157",
   "metadata": {},
   "source": [
    "A palindrome is a word, phrase, number, or other sequence of characters that reads the same forward and backward. In the context of numbers, a palindrome is a number that remains the same when its digits are reversed. For example, \"radar,\" \"level,\" and the number 121 are examples of palindromes."
   ]
  },
  {
   "cell_type": "code",
   "execution_count": 23,
   "id": "1fcc44c5",
   "metadata": {},
   "outputs": [
    {
     "name": "stdout",
     "output_type": "stream",
     "text": [
      "Enter a number: 123321\n",
      "123321 is a palindrome\n"
     ]
    }
   ],
   "source": [
    "def is_palindrome(number):\n",
    "    original_number = number\n",
    "    reversed_number = 0\n",
    "\n",
    "    while number > 0:\n",
    "        digit = number % 10\n",
    "        reversed_number = reversed_number * 10 + digit\n",
    "        number = number // 10\n",
    "\n",
    "    if original_number == reversed_number:\n",
    "        return True\n",
    "    else:\n",
    "        return False\n",
    "\n",
    "# Input a number to check for palindrome\n",
    "num = int(input(\"Enter a number: \"))\n",
    "\n",
    "if is_palindrome(num):\n",
    "    print(f\"{num} is a palindrome\")\n",
    "else:\n",
    "    print(f\"{num} is not a palindrome .\")\n"
   ]
  },
  {
   "cell_type": "markdown",
   "id": "7e49e0f0",
   "metadata": {},
   "source": [
    "## Q9. Write a code to print odd numbers from 1 to 100 using list comprehension.\n",
    "**Note:** Use a list comprehension to create a list from 1 to 100 and use another List comprehension to filter\n",
    "out odd numbers.\n",
    "### Ans:"
   ]
  },
  {
   "cell_type": "code",
   "execution_count": 28,
   "id": "bdd06feb",
   "metadata": {},
   "outputs": [
    {
     "name": "stdout",
     "output_type": "stream",
     "text": [
      "[1, 3, 5, 7, 9, 11, 13, 15, 17, 19, 21, 23, 25, 27, 29, 31, 33, 35, 37, 39, 41, 43, 45, 47, 49, 51, 53, 55, 57, 59, 61, 63, 65, 67, 69, 71, 73, 75, 77, 79, 81, 83, 85, 87, 89, 91, 93, 95, 97, 99]\n"
     ]
    }
   ],
   "source": [
    "l = [i for i in range(1, 101)]\n",
    "l1 = [num for num in l if num % 2 != 0]\n",
    "print(l1)"
   ]
  },
  {
   "cell_type": "code",
   "execution_count": 29,
   "id": "de5bc0e4",
   "metadata": {},
   "outputs": [
    {
     "name": "stdout",
     "output_type": "stream",
     "text": [
      "[1, 3, 5, 7, 9, 11, 13, 15, 17, 19, 21, 23, 25, 27, 29, 31, 33, 35, 37, 39, 41, 43, 45, 47, 49, 51, 53, 55, 57, 59, 61, 63, 65, 67, 69, 71, 73, 75, 77, 79, 81, 83, 85, 87, 89, 91, 93, 95, 97, 99]\n"
     ]
    }
   ],
   "source": [
    "def l():\n",
    "    l1 = []\n",
    "    for i in range(1, 100):\n",
    "         if i % 2 != 0:\n",
    "            l1.append(i)\n",
    "    return l1\n",
    "\n",
    "result = l()\n",
    "print(result)"
   ]
  }
 ],
 "metadata": {
  "kernelspec": {
   "display_name": "Python 3 (ipykernel)",
   "language": "python",
   "name": "python3"
  },
  "language_info": {
   "codemirror_mode": {
    "name": "ipython",
    "version": 3
   },
   "file_extension": ".py",
   "mimetype": "text/x-python",
   "name": "python",
   "nbconvert_exporter": "python",
   "pygments_lexer": "ipython3",
   "version": "3.11.4"
  }
 },
 "nbformat": 4,
 "nbformat_minor": 5
}
